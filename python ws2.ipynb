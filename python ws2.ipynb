{
 "cells": [
  {
   "cell_type": "code",
   "execution_count": null,
   "id": "1d64fb6a",
   "metadata": {},
   "outputs": [],
   "source": []
  },
  {
   "cell_type": "markdown",
   "id": "2ba69f06",
   "metadata": {},
   "source": [
    "### 14. Write a python program to solve a quadratic equation of the form ax^2+bx+c=0. Where a, b and c are to be taken by user input. Handle the erroneous input, such as ‘a’ should not be equal to 0. "
   ]
  },
  {
   "cell_type": "code",
   "execution_count": 21,
   "id": "57975f67",
   "metadata": {},
   "outputs": [
    {
     "name": "stdout",
     "output_type": "stream",
     "text": [
      "Enter Values of a,b,c for the quadratic equation 2 2 1\n",
      "Eq have Complex Roots\n",
      "-0.5  + i 2.0\n",
      "-0.5  - i 2.0\n"
     ]
    }
   ],
   "source": [
    "# To find roots of quadratic eq, we have the formula: x=(-b+/-((b**2-4*a*c)**1/2))/2*a\n",
    "import math\n",
    "\n",
    "def quadeq():\n",
    "    a,b,c=list(map(int,input(\"Enter Values of a,b,c for the quadratic equation \").split()))\n",
    "    if a==0:\n",
    "        print(\"Value of a cannot be 0 for a quadratic equation\")\n",
    "    else:\n",
    "        # Calculating discriminant using formula\n",
    "        disc=b**2-4*a*c\n",
    "        sqrt_disc=math.sqrt(abs(disc))\n",
    "        \n",
    "        # Checking condition for discriminant\n",
    "        if disc > 0: \n",
    "            print(\" Eq have real and different roots \") \n",
    "            print((-b + sqrt_disc)/(2 * a)) \n",
    "            print((-b - sqrt_disc)/(2 * a)) \n",
    "      \n",
    "        elif disc == 0: \n",
    "            print(\" Eq have real and same roots\") \n",
    "            print(-b / (2 * a)) \n",
    "      \n",
    "        else:\n",
    "            print(\"Eq have Complex Roots\") \n",
    "            print(- b / (2 * a), \" + i\", sqrt_disc) \n",
    "            print(- b / (2 * a), \" - i\", sqrt_disc) \n",
    "        \n",
    "\n",
    "quadeq()"
   ]
  },
  {
   "cell_type": "code",
   "execution_count": null,
   "id": "2ec8a916",
   "metadata": {},
   "outputs": [],
   "source": []
  },
  {
   "cell_type": "markdown",
   "id": "3db8ed4e",
   "metadata": {},
   "source": [
    "### 15. Write a python program to find the sum of first ‘n’ natural numbers without using any loop. Ask users to input the value of ‘n’"
   ]
  },
  {
   "cell_type": "code",
   "execution_count": null,
   "id": "35300eaf",
   "metadata": {},
   "outputs": [],
   "source": [
    "# As its said, we dont have to use loop, so we will use formula to calculate sum of n natural numbers (n*(n+1)/2)"
   ]
  },
  {
   "cell_type": "code",
   "execution_count": 2,
   "id": "6a64cbed",
   "metadata": {},
   "outputs": [
    {
     "name": "stdout",
     "output_type": "stream",
     "text": [
      "Enter any Natural number to find sum 7\n",
      "Sum of first 7 natural numbers using formula= 28.0\n"
     ]
    }
   ],
   "source": [
    "def sum(n):\n",
    "    sum= n*(n+1)/2\n",
    "    print(\"Sum of first\",n,\"natural numbers using formula=\",sum)\n",
    "    \n",
    "    \n",
    "n=int(input(\"Enter any Natural number to find sum \"))\n",
    "sum(n)"
   ]
  },
  {
   "cell_type": "code",
   "execution_count": null,
   "id": "2ced98da",
   "metadata": {},
   "outputs": [],
   "source": []
  }
 ],
 "metadata": {
  "kernelspec": {
   "display_name": "Python 3 (ipykernel)",
   "language": "python",
   "name": "python3"
  },
  "language_info": {
   "codemirror_mode": {
    "name": "ipython",
    "version": 3
   },
   "file_extension": ".py",
   "mimetype": "text/x-python",
   "name": "python",
   "nbconvert_exporter": "python",
   "pygments_lexer": "ipython3",
   "version": "3.9.12"
  }
 },
 "nbformat": 4,
 "nbformat_minor": 5
}
